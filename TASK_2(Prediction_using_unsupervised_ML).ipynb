{
  "nbformat": 4,
  "nbformat_minor": 0,
  "metadata": {
    "colab": {
      "name": "TASK_2(Prediction_using_unsupervised_ML)",
      "provenance": [],
      "collapsed_sections": []
    },
    "kernelspec": {
      "name": "python3",
      "display_name": "Python 3"
    },
    "language_info": {
      "name": "python"
    }
  },
  "cells": [
    {
      "cell_type": "markdown",
      "metadata": {
        "id": "nx_HQiQrSCkE"
      },
      "source": [
        "\n",
        "THE SPARKS FOUNDATION\n",
        "\n",
        "Data Science and Business Analytics Internship(GRIP May2021)\n",
        "\n",
        "TASK 2:PREDICTION USING UNSUPERVISED ML\n",
        "\n",
        "Problem:Predict the Optimum number of clusters and Represent it visually.\n",
        "\n",
        "By:SHILPA THOMAS\n",
        "\n",
        "Here we will use K-Means Clustering Technique to decide the optimum number of clusters for the given dataset.\n",
        "\n",
        "IMPORT THE REQUIRED LIRARIES"
      ]
    },
    {
      "cell_type": "code",
      "metadata": {
        "id": "OwBMmoNASBmr"
      },
      "source": [
        "import numpy as np\n",
        "import matplotlib.pyplot as plt\n",
        "import pandas as pd\n",
        "from sklearn import datasets"
      ],
      "execution_count": null,
      "outputs": []
    },
    {
      "cell_type": "markdown",
      "metadata": {
        "id": "pH3UlzdTSNWs"
      },
      "source": [
        "READING DATA FILE"
      ]
    },
    {
      "cell_type": "code",
      "metadata": {
        "id": "bYwkbexESBpO"
      },
      "source": [
        "iris = datasets.load_iris()\n",
        "iris_df = pd.DataFrame(iris.data,columns = iris.feature_names)\n",
        "iris_df.head()"
      ],
      "execution_count": null,
      "outputs": []
    },
    {
      "cell_type": "markdown",
      "metadata": {
        "id": "SslBawZ0SVZ5"
      },
      "source": [
        "CHECK IF THERE IS ANY MISSING VALUES"
      ]
    },
    {
      "cell_type": "code",
      "metadata": {
        "id": "dZnlHmfkSBr7"
      },
      "source": [
        "iris_df.isnull().sum()"
      ],
      "execution_count": null,
      "outputs": []
    },
    {
      "cell_type": "markdown",
      "metadata": {
        "id": "CM2KxvcPSbH7"
      },
      "source": [
        "We can see that there are no missing values."
      ]
    },
    {
      "cell_type": "code",
      "metadata": {
        "id": "LM5EckMUSBue"
      },
      "source": [
        "\n",
        "iris_df.describe()"
      ],
      "execution_count": null,
      "outputs": []
    },
    {
      "cell_type": "code",
      "metadata": {
        "id": "RKeC5DaISBxH"
      },
      "source": [
        "iris_df.info()"
      ],
      "execution_count": null,
      "outputs": []
    },
    {
      "cell_type": "markdown",
      "metadata": {
        "id": "rCtQ0SZiSi0R"
      },
      "source": [
        "EXTRACT COLUMN VALUES"
      ]
    },
    {
      "cell_type": "code",
      "metadata": {
        "id": "H1IY5mWYSBzy"
      },
      "source": [
        "x = iris_df.iloc[:,[0,1,2,3]].values\n",
        "x"
      ],
      "execution_count": null,
      "outputs": []
    },
    {
      "cell_type": "markdown",
      "metadata": {
        "id": "_udVnCuaSo3Z"
      },
      "source": [
        "\n",
        "TARGET VARIABLES"
      ]
    },
    {
      "cell_type": "code",
      "metadata": {
        "id": "7wRIwP_TSB2K"
      },
      "source": [
        "iris.target"
      ],
      "execution_count": null,
      "outputs": []
    },
    {
      "cell_type": "markdown",
      "metadata": {
        "id": "gY4eMvU8St0s"
      },
      "source": [
        "\n",
        "Here 0 - Setosa, 1 - Versicolour, 2 - Virginica\n",
        "\n",
        "TO FIND OPTIMUM NUMER OF CLUSTERS USING ELBOW METHOD"
      ]
    },
    {
      "cell_type": "code",
      "metadata": {
        "id": "YUFaSgqvSB5t"
      },
      "source": [
        "from sklearn.cluster import KMeans\n",
        "wcss = []\n",
        "\n",
        "for i in range(1, 11):\n",
        "    kmeans = KMeans(n_clusters = i, init = 'k-means++', \n",
        "                    max_iter = 300, n_init = 10, random_state = 0)\n",
        "    kmeans.fit(x)\n",
        "    wcss.append(kmeans.inertia_)\n",
        "     \n",
        "plt.plot(range(1, 11), wcss)\n",
        "plt.title('The Elbow method')\n",
        "plt.xlabel('Number of clusters')\n",
        "plt.ylabel('WCSS')\n",
        "plt.show()"
      ],
      "execution_count": null,
      "outputs": []
    },
    {
      "cell_type": "markdown",
      "metadata": {
        "id": "XHGSs4osSzzB"
      },
      "source": [
        "\n",
        "From above graph we can say that there will be 3 optimum numbers of clusters.\n",
        "\n",
        "K-MEANS CLUSTERING\n",
        "\n",
        "APPLYING K-MEANS TO THE IRIS DATASET"
      ]
    },
    {
      "cell_type": "code",
      "metadata": {
        "id": "756Xe4lpSB9A"
      },
      "source": [
        "kmeans = KMeans(n_clusters = 3, init = 'k-means++', max_iter = 200, n_init = 10, random_state = 0)\n",
        "y_kmeans = kmeans.fit_predict(x)"
      ],
      "execution_count": null,
      "outputs": []
    },
    {
      "cell_type": "markdown",
      "metadata": {
        "id": "emKlVaHWS4xR"
      },
      "source": [
        "VISUALIZE THE RESULTS"
      ]
    },
    {
      "cell_type": "code",
      "metadata": {
        "id": "6ZHPscb0SB_F"
      },
      "source": [
        "plt.scatter(x[y_kmeans == 0, 0], x[y_kmeans == 0, 1],\n",
        "           s=100, c = 'red', label = 'Iris-setosa')\n",
        "plt.scatter(x[y_kmeans == 1, 0], x[y_kmeans == 1, 1],\n",
        "           s=100, c='blue', label = 'Iris-versicolor')\n",
        "plt.scatter(x[y_kmeans == 2, 0], x[y_kmeans == 2,1],\n",
        "           s = 100, c = 'yellow', label = 'Iris-Verginica')"
      ],
      "execution_count": null,
      "outputs": []
    },
    {
      "cell_type": "markdown",
      "metadata": {
        "id": "sGW63Ic1S-Fv"
      },
      "source": [
        "PLOTTING THE CENTROIDS OF THE 3 CLUSTERS"
      ]
    },
    {
      "cell_type": "code",
      "metadata": {
        "id": "Oq6JiSCESCC6"
      },
      "source": [
        "plt.scatter(kmeans.cluster_centers_[:, 0], kmeans.cluster_centers_[:, 1],\n",
        "           s = 100, c = 'green', label = 'centroids')\n",
        "plt.legend()"
      ],
      "execution_count": null,
      "outputs": []
    },
    {
      "cell_type": "markdown",
      "metadata": {
        "id": "zO-wxMXITCle"
      },
      "source": [
        "VISUALIZE THE 2 PLOTS TOGETHER"
      ]
    },
    {
      "cell_type": "code",
      "metadata": {
        "id": "rW4ljREPTD0p"
      },
      "source": [
        "plt.scatter(x[y_kmeans == 0, 0], x[y_kmeans == 0, 1],\n",
        "           s=100, c = 'red', label = 'Iris-setosa')\n",
        "plt.scatter(x[y_kmeans == 1, 0], x[y_kmeans == 1, 1],\n",
        "           s=100, c='blue', label = 'Iris-versicolor')\n",
        "plt.scatter(x[y_kmeans == 2, 0], x[y_kmeans == 2,1],\n",
        "           s = 100, c = 'yellow', label = 'Iris-Verginica')\n",
        "\n",
        "# Plotting the centroids\n",
        "plt.scatter(kmeans.cluster_centers_[:, 0], kmeans.cluster_centers_[:, 1],\n",
        "           s = 100, c = 'green', label = 'centroids')\n",
        "plt.legend()"
      ],
      "execution_count": null,
      "outputs": []
    },
    {
      "cell_type": "markdown",
      "metadata": {
        "id": "xmXULoxHTLAG"
      },
      "source": [
        "SO WE CAN CONCLUDE THAT THE OPTIMUM NUMBER OF CLUSTERS IS 3.\n",
        "\n",
        "END OF TASK-2\n",
        "\n",
        "THANK YOU!!!"
      ]
    }
  ]
}